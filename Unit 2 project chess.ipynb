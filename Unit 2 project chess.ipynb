{
 "cells": [
  {
   "cell_type": "code",
   "execution_count": 1,
   "id": "b2944518",
   "metadata": {},
   "outputs": [],
   "source": [
    "import pandas as pd\n",
    "import numpy as np\n",
    "import matplotlib.pyplot as plt\n",
    "from sklearn.model_selection import train_test_split\n",
    "from sklearn.pipeline import make_pipeline\n",
    "from category_encoders import OrdinalEncoder, OneHotEncoder\n",
    "from sklearn.impute import SimpleImputer\n",
    "from sklearn.ensemble import GradientBoostingClassifier, RandomForestClassifier\n",
    "from xgboost import XGBClassifier\n",
    "from sklearn.linear_model import LogisticRegression\n",
    "from sklearn.model_selection import GridSearchCV, RandomizedSearchCV"
   ]
  },
  {
   "cell_type": "code",
   "execution_count": 2,
   "id": "c22bfa16",
   "metadata": {},
   "outputs": [],
   "source": [
    "chess = pd.read_csv(r'C:\\Users\\ebner\\Desktop\\lamb\\chessgames.csv')"
   ]
  },
  {
   "cell_type": "code",
   "execution_count": 3,
   "id": "d0647f80",
   "metadata": {},
   "outputs": [
    {
     "name": "stdout",
     "output_type": "stream",
     "text": [
      "<class 'pandas.core.frame.DataFrame'>\n",
      "RangeIndex: 20058 entries, 0 to 20057\n",
      "Data columns (total 16 columns):\n",
      " #   Column          Non-Null Count  Dtype  \n",
      "---  ------          --------------  -----  \n",
      " 0   id              20058 non-null  object \n",
      " 1   rated           20058 non-null  bool   \n",
      " 2   created_at      20058 non-null  float64\n",
      " 3   last_move_at    20058 non-null  float64\n",
      " 4   turns           20058 non-null  int64  \n",
      " 5   victory_status  20058 non-null  object \n",
      " 6   winner          20058 non-null  object \n",
      " 7   increment_code  20058 non-null  object \n",
      " 8   white_id        20058 non-null  object \n",
      " 9   white_rating    20058 non-null  int64  \n",
      " 10  black_id        20058 non-null  object \n",
      " 11  black_rating    20058 non-null  int64  \n",
      " 12  moves           20058 non-null  object \n",
      " 13  opening_eco     20058 non-null  object \n",
      " 14  opening_name    20058 non-null  object \n",
      " 15  opening_ply     20058 non-null  int64  \n",
      "dtypes: bool(1), float64(2), int64(4), object(9)\n",
      "memory usage: 2.3+ MB\n"
     ]
    }
   ],
   "source": [
    "chess.info()"
   ]
  },
  {
   "cell_type": "code",
   "execution_count": 4,
   "id": "68c95e05",
   "metadata": {},
   "outputs": [],
   "source": [
    "chess.set_index('id',inplace=True)"
   ]
  },
  {
   "cell_type": "code",
   "execution_count": 5,
   "id": "21fd23db",
   "metadata": {},
   "outputs": [
    {
     "data": {
      "text/plain": [
       "rated                 2\n",
       "created_at        13151\n",
       "last_move_at      13186\n",
       "turns               211\n",
       "victory_status        4\n",
       "winner                3\n",
       "increment_code      400\n",
       "white_id           9438\n",
       "white_rating       1516\n",
       "black_id           9331\n",
       "black_rating       1521\n",
       "moves             18920\n",
       "opening_eco         365\n",
       "opening_name       1477\n",
       "opening_ply          23\n",
       "dtype: int64"
      ]
     },
     "execution_count": 5,
     "metadata": {},
     "output_type": "execute_result"
    }
   ],
   "source": [
    "chess.nunique()"
   ]
  },
  {
   "cell_type": "code",
   "execution_count": 6,
   "id": "71bb137f",
   "metadata": {},
   "outputs": [],
   "source": [
    "def clean(df):\n",
    "    df = df[df.rated != 0]\n",
    "    df.drop('rated',axis=1,inplace=True)\n",
    "    co = 365\n",
    "    for col in df.select_dtypes(['object','float']).columns:\n",
    "        if df[col].nunique() > co:\n",
    "            df.drop(col,axis=1,inplace=True)\n",
    "    return df\n"
   ]
  },
  {
   "cell_type": "code",
   "execution_count": 7,
   "id": "a7899ae5",
   "metadata": {},
   "outputs": [
    {
     "name": "stderr",
     "output_type": "stream",
     "text": [
      "C:\\Users\\ebner\\anaconda3\\lib\\site-packages\\pandas\\core\\frame.py:4308: SettingWithCopyWarning: \n",
      "A value is trying to be set on a copy of a slice from a DataFrame\n",
      "\n",
      "See the caveats in the documentation: https://pandas.pydata.org/pandas-docs/stable/user_guide/indexing.html#returning-a-view-versus-a-copy\n",
      "  return super().drop(\n"
     ]
    }
   ],
   "source": [
    "df = clean(chess)"
   ]
  },
  {
   "cell_type": "code",
   "execution_count": 8,
   "id": "c6119580",
   "metadata": {},
   "outputs": [
    {
     "data": {
      "text/html": [
       "<div>\n",
       "<style scoped>\n",
       "    .dataframe tbody tr th:only-of-type {\n",
       "        vertical-align: middle;\n",
       "    }\n",
       "\n",
       "    .dataframe tbody tr th {\n",
       "        vertical-align: top;\n",
       "    }\n",
       "\n",
       "    .dataframe thead th {\n",
       "        text-align: right;\n",
       "    }\n",
       "</style>\n",
       "<table border=\"1\" class=\"dataframe\">\n",
       "  <thead>\n",
       "    <tr style=\"text-align: right;\">\n",
       "      <th></th>\n",
       "      <th>turns</th>\n",
       "      <th>victory_status</th>\n",
       "      <th>winner</th>\n",
       "      <th>increment_code</th>\n",
       "      <th>white_rating</th>\n",
       "      <th>black_rating</th>\n",
       "      <th>opening_eco</th>\n",
       "      <th>opening_ply</th>\n",
       "    </tr>\n",
       "    <tr>\n",
       "      <th>id</th>\n",
       "      <th></th>\n",
       "      <th></th>\n",
       "      <th></th>\n",
       "      <th></th>\n",
       "      <th></th>\n",
       "      <th></th>\n",
       "      <th></th>\n",
       "      <th></th>\n",
       "    </tr>\n",
       "  </thead>\n",
       "  <tbody>\n",
       "    <tr>\n",
       "      <th>l1NXvwaE</th>\n",
       "      <td>16</td>\n",
       "      <td>resign</td>\n",
       "      <td>black</td>\n",
       "      <td>5+10</td>\n",
       "      <td>1322</td>\n",
       "      <td>1261</td>\n",
       "      <td>B00</td>\n",
       "      <td>4</td>\n",
       "    </tr>\n",
       "    <tr>\n",
       "      <th>mIICvQHh</th>\n",
       "      <td>61</td>\n",
       "      <td>mate</td>\n",
       "      <td>white</td>\n",
       "      <td>5+10</td>\n",
       "      <td>1496</td>\n",
       "      <td>1500</td>\n",
       "      <td>C20</td>\n",
       "      <td>3</td>\n",
       "    </tr>\n",
       "    <tr>\n",
       "      <th>kWKvrqYL</th>\n",
       "      <td>61</td>\n",
       "      <td>mate</td>\n",
       "      <td>white</td>\n",
       "      <td>20+0</td>\n",
       "      <td>1439</td>\n",
       "      <td>1454</td>\n",
       "      <td>D02</td>\n",
       "      <td>3</td>\n",
       "    </tr>\n",
       "    <tr>\n",
       "      <th>9tXo1AUZ</th>\n",
       "      <td>95</td>\n",
       "      <td>mate</td>\n",
       "      <td>white</td>\n",
       "      <td>30+3</td>\n",
       "      <td>1523</td>\n",
       "      <td>1469</td>\n",
       "      <td>C41</td>\n",
       "      <td>5</td>\n",
       "    </tr>\n",
       "    <tr>\n",
       "      <th>qwU9rasv</th>\n",
       "      <td>33</td>\n",
       "      <td>resign</td>\n",
       "      <td>white</td>\n",
       "      <td>10+0</td>\n",
       "      <td>1520</td>\n",
       "      <td>1423</td>\n",
       "      <td>D00</td>\n",
       "      <td>10</td>\n",
       "    </tr>\n",
       "    <tr>\n",
       "      <th>...</th>\n",
       "      <td>...</td>\n",
       "      <td>...</td>\n",
       "      <td>...</td>\n",
       "      <td>...</td>\n",
       "      <td>...</td>\n",
       "      <td>...</td>\n",
       "      <td>...</td>\n",
       "      <td>...</td>\n",
       "    </tr>\n",
       "    <tr>\n",
       "      <th>EfqH7VVH</th>\n",
       "      <td>24</td>\n",
       "      <td>resign</td>\n",
       "      <td>white</td>\n",
       "      <td>10+10</td>\n",
       "      <td>1691</td>\n",
       "      <td>1220</td>\n",
       "      <td>A80</td>\n",
       "      <td>2</td>\n",
       "    </tr>\n",
       "    <tr>\n",
       "      <th>WSJDhbPl</th>\n",
       "      <td>82</td>\n",
       "      <td>mate</td>\n",
       "      <td>black</td>\n",
       "      <td>10+0</td>\n",
       "      <td>1233</td>\n",
       "      <td>1196</td>\n",
       "      <td>A41</td>\n",
       "      <td>2</td>\n",
       "    </tr>\n",
       "    <tr>\n",
       "      <th>yrAas0Kj</th>\n",
       "      <td>35</td>\n",
       "      <td>mate</td>\n",
       "      <td>white</td>\n",
       "      <td>10+0</td>\n",
       "      <td>1219</td>\n",
       "      <td>1286</td>\n",
       "      <td>D00</td>\n",
       "      <td>3</td>\n",
       "    </tr>\n",
       "    <tr>\n",
       "      <th>b0v4tRyF</th>\n",
       "      <td>109</td>\n",
       "      <td>resign</td>\n",
       "      <td>white</td>\n",
       "      <td>10+0</td>\n",
       "      <td>1360</td>\n",
       "      <td>1227</td>\n",
       "      <td>B07</td>\n",
       "      <td>4</td>\n",
       "    </tr>\n",
       "    <tr>\n",
       "      <th>N8G2JHGG</th>\n",
       "      <td>78</td>\n",
       "      <td>mate</td>\n",
       "      <td>black</td>\n",
       "      <td>10+0</td>\n",
       "      <td>1235</td>\n",
       "      <td>1339</td>\n",
       "      <td>D00</td>\n",
       "      <td>3</td>\n",
       "    </tr>\n",
       "  </tbody>\n",
       "</table>\n",
       "<p>16155 rows × 8 columns</p>\n",
       "</div>"
      ],
      "text/plain": [
       "          turns victory_status winner increment_code  white_rating  \\\n",
       "id                                                                   \n",
       "l1NXvwaE     16         resign  black           5+10          1322   \n",
       "mIICvQHh     61           mate  white           5+10          1496   \n",
       "kWKvrqYL     61           mate  white           20+0          1439   \n",
       "9tXo1AUZ     95           mate  white           30+3          1523   \n",
       "qwU9rasv     33         resign  white           10+0          1520   \n",
       "...         ...            ...    ...            ...           ...   \n",
       "EfqH7VVH     24         resign  white          10+10          1691   \n",
       "WSJDhbPl     82           mate  black           10+0          1233   \n",
       "yrAas0Kj     35           mate  white           10+0          1219   \n",
       "b0v4tRyF    109         resign  white           10+0          1360   \n",
       "N8G2JHGG     78           mate  black           10+0          1235   \n",
       "\n",
       "          black_rating opening_eco  opening_ply  \n",
       "id                                               \n",
       "l1NXvwaE          1261         B00            4  \n",
       "mIICvQHh          1500         C20            3  \n",
       "kWKvrqYL          1454         D02            3  \n",
       "9tXo1AUZ          1469         C41            5  \n",
       "qwU9rasv          1423         D00           10  \n",
       "...                ...         ...          ...  \n",
       "EfqH7VVH          1220         A80            2  \n",
       "WSJDhbPl          1196         A41            2  \n",
       "yrAas0Kj          1286         D00            3  \n",
       "b0v4tRyF          1227         B07            4  \n",
       "N8G2JHGG          1339         D00            3  \n",
       "\n",
       "[16155 rows x 8 columns]"
      ]
     },
     "execution_count": 8,
     "metadata": {},
     "output_type": "execute_result"
    }
   ],
   "source": [
    "df"
   ]
  },
  {
   "cell_type": "code",
   "execution_count": 9,
   "id": "a31a6927",
   "metadata": {},
   "outputs": [],
   "source": [
    "target = 'winner'\n",
    "X = df.drop(columns=target)\n",
    "y = df[target]"
   ]
  },
  {
   "cell_type": "code",
   "execution_count": 10,
   "id": "3c25ddb5",
   "metadata": {},
   "outputs": [],
   "source": [
    "X_train, X_test, y_train, y_test = train_test_split(X, y, test_size=.2, random_state=42)"
   ]
  },
  {
   "cell_type": "code",
   "execution_count": 11,
   "id": "547a2da8",
   "metadata": {},
   "outputs": [],
   "source": [
    "X_train, X_val, y_train, y_val = train_test_split(X_train, y_train, test_size=.25, random_state=42)"
   ]
  },
  {
   "cell_type": "code",
   "execution_count": 12,
   "id": "2b5c0079",
   "metadata": {},
   "outputs": [
    {
     "name": "stdout",
     "output_type": "stream",
     "text": [
      "Baseline = 0.4994325802125245\n"
     ]
    }
   ],
   "source": [
    "baseline_acc = y_train.value_counts(normalize=True).max()\n",
    "print('Baseline =', baseline_acc)"
   ]
  },
  {
   "cell_type": "code",
   "execution_count": 13,
   "id": "6c95fe20",
   "metadata": {
    "scrolled": true
   },
   "outputs": [
    {
     "data": {
      "text/plain": [
       "Pipeline(steps=[('ordinalencoder',\n",
       "                 OrdinalEncoder(cols=['victory_status', 'increment_code',\n",
       "                                      'opening_eco'],\n",
       "                                mapping=[{'col': 'victory_status',\n",
       "                                          'data_type': dtype('O'),\n",
       "                                          'mapping': outoftime    1\n",
       "mate         2\n",
       "resign       3\n",
       "draw         4\n",
       "NaN         -2\n",
       "dtype: int64},\n",
       "                                         {'col': 'increment_code',\n",
       "                                          'data_type': dtype('O'),\n",
       "                                          'mapping': 10+0       1\n",
       "15+0       2\n",
       "20+20      3\n",
       "8+0        4\n",
       "13+15      5\n",
       "        ... \n",
       "0+13     291\n",
       "11+1     292\n",
       "16+20    293\n",
       "19+17    294\n",
       "NaN       -2\n",
       "Length: 295, dtype: int64},\n",
       "                                         {'col': 'opening_eco',\n",
       "                                          'data_type': dtype('O'),\n",
       "                                          'mapping': C45      1\n",
       "D06      2\n",
       "C21      3\n",
       "A43      4\n",
       "C50      5\n",
       "      ... \n",
       "B73    321\n",
       "E88    322\n",
       "C12    323\n",
       "A82    324\n",
       "NaN     -2\n",
       "Length: 325, dtype: int64}])),\n",
       "                ('randomforestclassifier',\n",
       "                 RandomForestClassifier(n_estimators=200, n_jobs=-1,\n",
       "                                        random_state=42))])"
      ]
     },
     "execution_count": 13,
     "metadata": {},
     "output_type": "execute_result"
    }
   ],
   "source": [
    "model_rf = make_pipeline(\n",
    "    OrdinalEncoder(),\n",
    "    RandomForestClassifier(random_state=42,n_estimators=200,n_jobs=-1)\n",
    ")\n",
    "\n",
    "model_rf.fit(X_train, y_train)"
   ]
  },
  {
   "cell_type": "code",
   "execution_count": 14,
   "id": "c8f4c3e4",
   "metadata": {},
   "outputs": [
    {
     "data": {
      "text/plain": [
       "Pipeline(steps=[('ordinalencoder',\n",
       "                 OrdinalEncoder(cols=['victory_status', 'increment_code',\n",
       "                                      'opening_eco'],\n",
       "                                mapping=[{'col': 'victory_status',\n",
       "                                          'data_type': dtype('O'),\n",
       "                                          'mapping': outoftime    1\n",
       "mate         2\n",
       "resign       3\n",
       "draw         4\n",
       "NaN         -2\n",
       "dtype: int64},\n",
       "                                         {'col': 'increment_code',\n",
       "                                          'data_type': dtype('O'),\n",
       "                                          'mapping': 10+0       1\n",
       "15+0       2\n",
       "20+20      3\n",
       "8+0        4\n",
       "13+15      5\n",
       "        ... \n",
       "0+13     291\n",
       "11+1     292\n",
       "16+20    293\n",
       "19+17    294\n",
       "NaN       -2\n",
       "Length: 295, dtype: int64},\n",
       "                                         {'col': 'opening_eco',\n",
       "                                          'data_type': dtype('O'),\n",
       "                                          'mapping': C45      1\n",
       "D06      2\n",
       "C21      3\n",
       "A43      4\n",
       "C50      5\n",
       "      ... \n",
       "B73    321\n",
       "E88    322\n",
       "C12    323\n",
       "A82    324\n",
       "NaN     -2\n",
       "Length: 325, dtype: int64}])),\n",
       "                ('logisticregression',\n",
       "                 LogisticRegression(n_jobs=-1, random_state=42))])"
      ]
     },
     "execution_count": 14,
     "metadata": {},
     "output_type": "execute_result"
    }
   ],
   "source": [
    "model_lr = make_pipeline(\n",
    "    OrdinalEncoder(),\n",
    "    LogisticRegression(random_state=42,n_jobs=-1)\n",
    ")\n",
    "\n",
    "model_lr.fit(X_train, y_train)"
   ]
  },
  {
   "cell_type": "code",
   "execution_count": 15,
   "id": "ba1675e4",
   "metadata": {},
   "outputs": [
    {
     "name": "stderr",
     "output_type": "stream",
     "text": [
      "C:\\Users\\ebner\\anaconda3\\lib\\site-packages\\xgboost\\sklearn.py:888: UserWarning: The use of label encoder in XGBClassifier is deprecated and will be removed in a future release. To remove this warning, do the following: 1) Pass option use_label_encoder=False when constructing XGBClassifier object; and 2) Encode your labels (y) as integers starting with 0, i.e. 0, 1, 2, ..., [num_class - 1].\n",
      "  warnings.warn(label_encoder_deprecation_msg, UserWarning)\n"
     ]
    },
    {
     "name": "stdout",
     "output_type": "stream",
     "text": [
      "[11:42:14] WARNING: ..\\src\\learner.cc:1061: Starting in XGBoost 1.3.0, the default evaluation metric used with the objective 'multi:softprob' was changed from 'merror' to 'mlogloss'. Explicitly set eval_metric if you'd like to restore the old behavior.\n"
     ]
    }
   ],
   "source": [
    "model_xgb = make_pipeline(\n",
    "    OrdinalEncoder(),\n",
    "    SimpleImputer(),\n",
    "    XGBClassifier(eta=.3,random_state=42,n_estimators=200,n_jobs=-1,verbosity=1)\n",
    ")\n",
    "\n",
    "model_xgb.fit(X_train, y_train);"
   ]
  },
  {
   "cell_type": "code",
   "execution_count": 16,
   "id": "c9b9418c",
   "metadata": {},
   "outputs": [
    {
     "name": "stdout",
     "output_type": "stream",
     "text": [
      "Forest Training Accuracy: 1.0\n",
      "Forest Validation Accuracy: 0.695140823274528\n"
     ]
    }
   ],
   "source": [
    "print('Forest Training Accuracy:', model_rf.score(X_train, y_train))\n",
    "print('Forest Validation Accuracy:', model_rf.score(X_val, y_val))"
   ]
  },
  {
   "cell_type": "code",
   "execution_count": 17,
   "id": "74d6d8f2",
   "metadata": {},
   "outputs": [
    {
     "name": "stdout",
     "output_type": "stream",
     "text": [
      "XGBoost Training Accuracy: 0.9800887238213144\n",
      "XGBoost Validation Accuracy: 0.8836273599504797\n"
     ]
    }
   ],
   "source": [
    "print('XGBoost Training Accuracy:', model_xgb.score(X_train, y_train))\n",
    "print('XGBoost Validation Accuracy:', model_xgb.score(X_val, y_val))"
   ]
  },
  {
   "cell_type": "code",
   "execution_count": 18,
   "id": "8e1460e1",
   "metadata": {},
   "outputs": [
    {
     "name": "stdout",
     "output_type": "stream",
     "text": [
      "Regression Training Accuracy: 0.6154957185597855\n",
      "Regression Validation Accuracy: 0.6326214794181368\n"
     ]
    }
   ],
   "source": [
    "print('Regression Training Accuracy:', model_lr.score(X_train, y_train))\n",
    "print('Regression Validation Accuracy:', model_lr.score(X_val, y_val))"
   ]
  },
  {
   "cell_type": "code",
   "execution_count": 19,
   "id": "4f5ad7b4",
   "metadata": {},
   "outputs": [
    {
     "data": {
      "text/plain": [
       "{'memory': None,\n",
       " 'steps': [('ordinalencoder',\n",
       "   OrdinalEncoder(cols=['victory_status', 'increment_code', 'opening_eco'],\n",
       "                  mapping=[{'col': 'victory_status', 'data_type': dtype('O'),\n",
       "                            'mapping': outoftime    1\n",
       "   mate         2\n",
       "   resign       3\n",
       "   draw         4\n",
       "   NaN         -2\n",
       "   dtype: int64},\n",
       "                           {'col': 'increment_code', 'data_type': dtype('O'),\n",
       "                            'mapping': 10+0       1\n",
       "   15+0       2\n",
       "   20+20      3\n",
       "   8+0        4\n",
       "   13+15      5\n",
       "           ... \n",
       "   0+13     291\n",
       "   11+1     292\n",
       "   16+20    293\n",
       "   19+17    294\n",
       "   NaN       -2\n",
       "   Length: 295, dtype: int64},\n",
       "                           {'col': 'opening_eco', 'data_type': dtype('O'),\n",
       "                            'mapping': C45      1\n",
       "   D06      2\n",
       "   C21      3\n",
       "   A43      4\n",
       "   C50      5\n",
       "         ... \n",
       "   B73    321\n",
       "   E88    322\n",
       "   C12    323\n",
       "   A82    324\n",
       "   NaN     -2\n",
       "   Length: 325, dtype: int64}])),\n",
       "  ('simpleimputer', SimpleImputer()),\n",
       "  ('xgbclassifier',\n",
       "   XGBClassifier(base_score=0.5, booster='gbtree', colsample_bylevel=1,\n",
       "                 colsample_bynode=1, colsample_bytree=1, eta=0.3, gamma=0,\n",
       "                 gpu_id=-1, importance_type='gain', interaction_constraints='',\n",
       "                 learning_rate=0.300000012, max_delta_step=0, max_depth=6,\n",
       "                 min_child_weight=1, missing=nan, monotone_constraints='()',\n",
       "                 n_estimators=200, n_jobs=-1, num_parallel_tree=1,\n",
       "                 objective='multi:softprob', random_state=42, reg_alpha=0,\n",
       "                 reg_lambda=1, scale_pos_weight=None, subsample=1,\n",
       "                 tree_method='exact', validate_parameters=1, verbosity=1))],\n",
       " 'verbose': False,\n",
       " 'ordinalencoder': OrdinalEncoder(cols=['victory_status', 'increment_code', 'opening_eco'],\n",
       "                mapping=[{'col': 'victory_status', 'data_type': dtype('O'),\n",
       "                          'mapping': outoftime    1\n",
       " mate         2\n",
       " resign       3\n",
       " draw         4\n",
       " NaN         -2\n",
       " dtype: int64},\n",
       "                         {'col': 'increment_code', 'data_type': dtype('O'),\n",
       "                          'mapping': 10+0       1\n",
       " 15+0       2\n",
       " 20+20      3\n",
       " 8+0        4\n",
       " 13+15      5\n",
       "         ... \n",
       " 0+13     291\n",
       " 11+1     292\n",
       " 16+20    293\n",
       " 19+17    294\n",
       " NaN       -2\n",
       " Length: 295, dtype: int64},\n",
       "                         {'col': 'opening_eco', 'data_type': dtype('O'),\n",
       "                          'mapping': C45      1\n",
       " D06      2\n",
       " C21      3\n",
       " A43      4\n",
       " C50      5\n",
       "       ... \n",
       " B73    321\n",
       " E88    322\n",
       " C12    323\n",
       " A82    324\n",
       " NaN     -2\n",
       " Length: 325, dtype: int64}]),\n",
       " 'simpleimputer': SimpleImputer(),\n",
       " 'xgbclassifier': XGBClassifier(base_score=0.5, booster='gbtree', colsample_bylevel=1,\n",
       "               colsample_bynode=1, colsample_bytree=1, eta=0.3, gamma=0,\n",
       "               gpu_id=-1, importance_type='gain', interaction_constraints='',\n",
       "               learning_rate=0.300000012, max_delta_step=0, max_depth=6,\n",
       "               min_child_weight=1, missing=nan, monotone_constraints='()',\n",
       "               n_estimators=200, n_jobs=-1, num_parallel_tree=1,\n",
       "               objective='multi:softprob', random_state=42, reg_alpha=0,\n",
       "               reg_lambda=1, scale_pos_weight=None, subsample=1,\n",
       "               tree_method='exact', validate_parameters=1, verbosity=1),\n",
       " 'ordinalencoder__cols': ['victory_status', 'increment_code', 'opening_eco'],\n",
       " 'ordinalencoder__drop_invariant': False,\n",
       " 'ordinalencoder__handle_missing': 'value',\n",
       " 'ordinalencoder__handle_unknown': 'value',\n",
       " 'ordinalencoder__mapping': [{'col': 'victory_status',\n",
       "   'mapping': outoftime    1\n",
       "   mate         2\n",
       "   resign       3\n",
       "   draw         4\n",
       "   NaN         -2\n",
       "   dtype: int64,\n",
       "   'data_type': dtype('O')},\n",
       "  {'col': 'increment_code',\n",
       "   'mapping': 10+0       1\n",
       "   15+0       2\n",
       "   20+20      3\n",
       "   8+0        4\n",
       "   13+15      5\n",
       "           ... \n",
       "   0+13     291\n",
       "   11+1     292\n",
       "   16+20    293\n",
       "   19+17    294\n",
       "   NaN       -2\n",
       "   Length: 295, dtype: int64,\n",
       "   'data_type': dtype('O')},\n",
       "  {'col': 'opening_eco',\n",
       "   'mapping': C45      1\n",
       "   D06      2\n",
       "   C21      3\n",
       "   A43      4\n",
       "   C50      5\n",
       "         ... \n",
       "   B73    321\n",
       "   E88    322\n",
       "   C12    323\n",
       "   A82    324\n",
       "   NaN     -2\n",
       "   Length: 325, dtype: int64,\n",
       "   'data_type': dtype('O')}],\n",
       " 'ordinalencoder__return_df': True,\n",
       " 'ordinalencoder__verbose': 0,\n",
       " 'simpleimputer__add_indicator': False,\n",
       " 'simpleimputer__copy': True,\n",
       " 'simpleimputer__fill_value': None,\n",
       " 'simpleimputer__missing_values': nan,\n",
       " 'simpleimputer__strategy': 'mean',\n",
       " 'simpleimputer__verbose': 0,\n",
       " 'xgbclassifier__objective': 'multi:softprob',\n",
       " 'xgbclassifier__use_label_encoder': True,\n",
       " 'xgbclassifier__base_score': 0.5,\n",
       " 'xgbclassifier__booster': 'gbtree',\n",
       " 'xgbclassifier__colsample_bylevel': 1,\n",
       " 'xgbclassifier__colsample_bynode': 1,\n",
       " 'xgbclassifier__colsample_bytree': 1,\n",
       " 'xgbclassifier__gamma': 0,\n",
       " 'xgbclassifier__gpu_id': -1,\n",
       " 'xgbclassifier__importance_type': 'gain',\n",
       " 'xgbclassifier__interaction_constraints': '',\n",
       " 'xgbclassifier__learning_rate': 0.300000012,\n",
       " 'xgbclassifier__max_delta_step': 0,\n",
       " 'xgbclassifier__max_depth': 6,\n",
       " 'xgbclassifier__min_child_weight': 1,\n",
       " 'xgbclassifier__missing': nan,\n",
       " 'xgbclassifier__monotone_constraints': '()',\n",
       " 'xgbclassifier__n_estimators': 200,\n",
       " 'xgbclassifier__n_jobs': -1,\n",
       " 'xgbclassifier__num_parallel_tree': 1,\n",
       " 'xgbclassifier__random_state': 42,\n",
       " 'xgbclassifier__reg_alpha': 0,\n",
       " 'xgbclassifier__reg_lambda': 1,\n",
       " 'xgbclassifier__scale_pos_weight': None,\n",
       " 'xgbclassifier__subsample': 1,\n",
       " 'xgbclassifier__tree_method': 'exact',\n",
       " 'xgbclassifier__validate_parameters': 1,\n",
       " 'xgbclassifier__verbosity': 1,\n",
       " 'xgbclassifier__eta': 0.3}"
      ]
     },
     "execution_count": 19,
     "metadata": {},
     "output_type": "execute_result"
    }
   ],
   "source": [
    "model_xgb.get_params()"
   ]
  },
  {
   "cell_type": "code",
   "execution_count": 20,
   "id": "a1f8e52b",
   "metadata": {},
   "outputs": [
    {
     "name": "stdout",
     "output_type": "stream",
     "text": [
      "Fitting 3 folds for each of 10 candidates, totalling 30 fits\n"
     ]
    },
    {
     "name": "stderr",
     "output_type": "stream",
     "text": [
      "C:\\Users\\ebner\\anaconda3\\lib\\site-packages\\category_encoders\\utils.py:21: FutureWarning: is_categorical is deprecated and will be removed in a future version.  Use is_categorical_dtype instead\n",
      "  elif pd.api.types.is_categorical(cols):\n",
      "C:\\Users\\ebner\\anaconda3\\lib\\site-packages\\xgboost\\sklearn.py:888: UserWarning: The use of label encoder in XGBClassifier is deprecated and will be removed in a future release. To remove this warning, do the following: 1) Pass option use_label_encoder=False when constructing XGBClassifier object; and 2) Encode your labels (y) as integers starting with 0, i.e. 0, 1, 2, ..., [num_class - 1].\n",
      "  warnings.warn(label_encoder_deprecation_msg, UserWarning)\n"
     ]
    },
    {
     "name": "stdout",
     "output_type": "stream",
     "text": [
      "[11:43:10] WARNING: ..\\src\\learner.cc:1061: Starting in XGBoost 1.3.0, the default evaluation metric used with the objective 'multi:softprob' was changed from 'merror' to 'mlogloss'. Explicitly set eval_metric if you'd like to restore the old behavior.\n"
     ]
    },
    {
     "data": {
      "text/plain": [
       "RandomizedSearchCV(cv=3,\n",
       "                   estimator=Pipeline(steps=[('ordinalencoder',\n",
       "                                              OrdinalEncoder(cols=['victory_status',\n",
       "                                                                   'increment_code',\n",
       "                                                                   'opening_eco'],\n",
       "                                                             mapping=[{'col': 'victory_status',\n",
       "                                                                       'data_type': dtype('O'),\n",
       "                                                                       'mapping': outoftime    1\n",
       "mate         2\n",
       "resign       3\n",
       "draw         4\n",
       "NaN         -2\n",
       "dtype: int64},\n",
       "                                                                      {'col': 'increment_code',\n",
       "                                                                       'data_type': dtype('O'),\n",
       "                                                                       'mapping': 10+0       1\n",
       "15+0       2\n",
       "20+20      3\n",
       "8+0        4\n",
       "13+15      5\n",
       "        ... \n",
       "0+13     291\n",
       "11+1     292\n",
       "1...\n",
       "                                                            num_parallel_tree=1,\n",
       "                                                            objective='multi:softprob',\n",
       "                                                            random_state=42,\n",
       "                                                            reg_alpha=0,\n",
       "                                                            reg_lambda=1,\n",
       "                                                            scale_pos_weight=None,\n",
       "                                                            subsample=1,\n",
       "                                                            tree_method='exact',\n",
       "                                                            validate_parameters=1,\n",
       "                                                            verbosity=1))]),\n",
       "                   n_jobs=-1,\n",
       "                   param_distributions={'xgbclassifier__learning_rate': array([0.3, 0.4, 0.5]),\n",
       "                                        'xgbclassifier__max_depth': range(1, 7),\n",
       "                                        'xgbclassifier__n_estimators': range(100, 601, 100)},\n",
       "                   verbose=1)"
      ]
     },
     "execution_count": 20,
     "metadata": {},
     "output_type": "execute_result"
    }
   ],
   "source": [
    "params = {'xgbclassifier__learning_rate' : np.arange(0.3, 0.6, 0.1),\n",
    "          'xgbclassifier__max_depth' : range(1,7,1),\n",
    "          'xgbclassifier__n_estimators' : range(100,601,100)\n",
    "    }\n",
    "\n",
    "model_xgbcv = RandomizedSearchCV(\n",
    "    model_xgb, \n",
    "    param_distributions=params,\n",
    "    n_iter=10,\n",
    "    cv=3,\n",
    "    n_jobs=-1,\n",
    "    verbose=1\n",
    ")\n",
    "\n",
    "model_xgbcv.fit(X_train, y_train)"
   ]
  },
  {
   "cell_type": "code",
   "execution_count": 21,
   "id": "7ffe1dbc",
   "metadata": {},
   "outputs": [
    {
     "name": "stdout",
     "output_type": "stream",
     "text": [
      "Best score for `model`: 0.876199319096255\n",
      "Best params for `model`: {'xgbclassifier__n_estimators': 300, 'xgbclassifier__max_depth': 4, 'xgbclassifier__learning_rate': 0.3}\n"
     ]
    }
   ],
   "source": [
    "best_score = model_xgbcv.best_score_\n",
    "best_params = model_xgbcv.best_params_\n",
    "\n",
    "print('Best score for `model`:', best_score)\n",
    "print('Best params for `model`:', best_params)"
   ]
  },
  {
   "cell_type": "code",
   "execution_count": 22,
   "id": "745157f2",
   "metadata": {},
   "outputs": [
    {
     "name": "stdout",
     "output_type": "stream",
     "text": [
      "[11:43:13] WARNING: ..\\src\\learner.cc:1061: Starting in XGBoost 1.3.0, the default evaluation metric used with the objective 'multi:softprob' was changed from 'merror' to 'mlogloss'. Explicitly set eval_metric if you'd like to restore the old behavior.\n"
     ]
    },
    {
     "name": "stderr",
     "output_type": "stream",
     "text": [
      "C:\\Users\\ebner\\anaconda3\\lib\\site-packages\\xgboost\\sklearn.py:888: UserWarning: The use of label encoder in XGBClassifier is deprecated and will be removed in a future release. To remove this warning, do the following: 1) Pass option use_label_encoder=False when constructing XGBClassifier object; and 2) Encode your labels (y) as integers starting with 0, i.e. 0, 1, 2, ..., [num_class - 1].\n",
      "  warnings.warn(label_encoder_deprecation_msg, UserWarning)\n"
     ]
    },
    {
     "data": {
      "text/plain": [
       "Pipeline(steps=[('ordinalencoder',\n",
       "                 OrdinalEncoder(cols=['victory_status', 'increment_code',\n",
       "                                      'opening_eco'],\n",
       "                                mapping=[{'col': 'victory_status',\n",
       "                                          'data_type': dtype('O'),\n",
       "                                          'mapping': outoftime    1\n",
       "mate         2\n",
       "resign       3\n",
       "draw         4\n",
       "NaN         -2\n",
       "dtype: int64},\n",
       "                                         {'col': 'increment_code',\n",
       "                                          'data_type': dtype('O'),\n",
       "                                          'mapping': 10+0       1\n",
       "15+0       2\n",
       "20+20      3\n",
       "8+0        4\n",
       "13+15      5\n",
       "        ... \n",
       "0+13     291\n",
       "11+1     292\n",
       "16+20    293\n",
       "19+17    294\n",
       "NaN       -2\n",
       "Length: 295, dty...\n",
       "                               importance_type='gain',\n",
       "                               interaction_constraints='',\n",
       "                               learning_rate=0.300000012, max_delta_step=0,\n",
       "                               max_depth=3, min_child_weight=1, missing=nan,\n",
       "                               monotone_constraints='()', n_estimators=400,\n",
       "                               n_jobs=-1, num_parallel_tree=1,\n",
       "                               objective='multi:softprob', random_state=42,\n",
       "                               reg_alpha=0, reg_lambda=1, scale_pos_weight=None,\n",
       "                               subsample=1, tree_method='exact',\n",
       "                               validate_parameters=1, verbosity=1))])"
      ]
     },
     "execution_count": 22,
     "metadata": {},
     "output_type": "execute_result"
    }
   ],
   "source": [
    "model_xgb1 = make_pipeline(\n",
    "    OrdinalEncoder(),\n",
    "    SimpleImputer(),\n",
    "    XGBClassifier(eta=.3,random_state=42,n_estimators=400,n_jobs=-1,max_depth=3,verbosity=1)\n",
    ")\n",
    "\n",
    "model_xgb1.fit(X_train, y_train)"
   ]
  },
  {
   "cell_type": "code",
   "execution_count": 23,
   "id": "44ebe63c",
   "metadata": {},
   "outputs": [
    {
     "name": "stdout",
     "output_type": "stream",
     "text": [
      "XGBoost Training Accuracy: 0.9800887238213144\n",
      "XGBoost Validation Accuracy: 0.8836273599504797\n"
     ]
    }
   ],
   "source": [
    "print('XGBoost Training Accuracy:', model_xgb.score(X_train, y_train))\n",
    "print('XGBoost Validation Accuracy:', model_xgb.score(X_val, y_val))"
   ]
  },
  {
   "cell_type": "code",
   "execution_count": 24,
   "id": "147f069d",
   "metadata": {},
   "outputs": [
    {
     "name": "stdout",
     "output_type": "stream",
     "text": [
      "XGBoost CV Training Accuracy: 0.9329412978438049\n",
      "XGBoost CV Validation Accuracy: 0.8857938718662952\n"
     ]
    }
   ],
   "source": [
    "print('XGBoost CV Training Accuracy:', model_xgb1.score(X_train, y_train))\n",
    "print('XGBoost CV Validation Accuracy:', model_xgb1.score(X_val, y_val))"
   ]
  },
  {
   "cell_type": "code",
   "execution_count": 25,
   "id": "de4498d3",
   "metadata": {},
   "outputs": [
    {
     "data": {
      "text/plain": [
       "{'memory': None,\n",
       " 'steps': [('ordinalencoder',\n",
       "   OrdinalEncoder(cols=['victory_status', 'increment_code', 'opening_eco'],\n",
       "                  mapping=[{'col': 'victory_status', 'data_type': dtype('O'),\n",
       "                            'mapping': outoftime    1\n",
       "   mate         2\n",
       "   resign       3\n",
       "   draw         4\n",
       "   NaN         -2\n",
       "   dtype: int64},\n",
       "                           {'col': 'increment_code', 'data_type': dtype('O'),\n",
       "                            'mapping': 10+0       1\n",
       "   15+0       2\n",
       "   20+20      3\n",
       "   8+0        4\n",
       "   13+15      5\n",
       "           ... \n",
       "   0+13     291\n",
       "   11+1     292\n",
       "   16+20    293\n",
       "   19+17    294\n",
       "   NaN       -2\n",
       "   Length: 295, dtype: int64},\n",
       "                           {'col': 'opening_eco', 'data_type': dtype('O'),\n",
       "                            'mapping': C45      1\n",
       "   D06      2\n",
       "   C21      3\n",
       "   A43      4\n",
       "   C50      5\n",
       "         ... \n",
       "   B73    321\n",
       "   E88    322\n",
       "   C12    323\n",
       "   A82    324\n",
       "   NaN     -2\n",
       "   Length: 325, dtype: int64}])),\n",
       "  ('logisticregression', LogisticRegression(n_jobs=-1, random_state=42))],\n",
       " 'verbose': False,\n",
       " 'ordinalencoder': OrdinalEncoder(cols=['victory_status', 'increment_code', 'opening_eco'],\n",
       "                mapping=[{'col': 'victory_status', 'data_type': dtype('O'),\n",
       "                          'mapping': outoftime    1\n",
       " mate         2\n",
       " resign       3\n",
       " draw         4\n",
       " NaN         -2\n",
       " dtype: int64},\n",
       "                         {'col': 'increment_code', 'data_type': dtype('O'),\n",
       "                          'mapping': 10+0       1\n",
       " 15+0       2\n",
       " 20+20      3\n",
       " 8+0        4\n",
       " 13+15      5\n",
       "         ... \n",
       " 0+13     291\n",
       " 11+1     292\n",
       " 16+20    293\n",
       " 19+17    294\n",
       " NaN       -2\n",
       " Length: 295, dtype: int64},\n",
       "                         {'col': 'opening_eco', 'data_type': dtype('O'),\n",
       "                          'mapping': C45      1\n",
       " D06      2\n",
       " C21      3\n",
       " A43      4\n",
       " C50      5\n",
       "       ... \n",
       " B73    321\n",
       " E88    322\n",
       " C12    323\n",
       " A82    324\n",
       " NaN     -2\n",
       " Length: 325, dtype: int64}]),\n",
       " 'logisticregression': LogisticRegression(n_jobs=-1, random_state=42),\n",
       " 'ordinalencoder__cols': ['victory_status', 'increment_code', 'opening_eco'],\n",
       " 'ordinalencoder__drop_invariant': False,\n",
       " 'ordinalencoder__handle_missing': 'value',\n",
       " 'ordinalencoder__handle_unknown': 'value',\n",
       " 'ordinalencoder__mapping': [{'col': 'victory_status',\n",
       "   'mapping': outoftime    1\n",
       "   mate         2\n",
       "   resign       3\n",
       "   draw         4\n",
       "   NaN         -2\n",
       "   dtype: int64,\n",
       "   'data_type': dtype('O')},\n",
       "  {'col': 'increment_code',\n",
       "   'mapping': 10+0       1\n",
       "   15+0       2\n",
       "   20+20      3\n",
       "   8+0        4\n",
       "   13+15      5\n",
       "           ... \n",
       "   0+13     291\n",
       "   11+1     292\n",
       "   16+20    293\n",
       "   19+17    294\n",
       "   NaN       -2\n",
       "   Length: 295, dtype: int64,\n",
       "   'data_type': dtype('O')},\n",
       "  {'col': 'opening_eco',\n",
       "   'mapping': C45      1\n",
       "   D06      2\n",
       "   C21      3\n",
       "   A43      4\n",
       "   C50      5\n",
       "         ... \n",
       "   B73    321\n",
       "   E88    322\n",
       "   C12    323\n",
       "   A82    324\n",
       "   NaN     -2\n",
       "   Length: 325, dtype: int64,\n",
       "   'data_type': dtype('O')}],\n",
       " 'ordinalencoder__return_df': True,\n",
       " 'ordinalencoder__verbose': 0,\n",
       " 'logisticregression__C': 1.0,\n",
       " 'logisticregression__class_weight': None,\n",
       " 'logisticregression__dual': False,\n",
       " 'logisticregression__fit_intercept': True,\n",
       " 'logisticregression__intercept_scaling': 1,\n",
       " 'logisticregression__l1_ratio': None,\n",
       " 'logisticregression__max_iter': 100,\n",
       " 'logisticregression__multi_class': 'auto',\n",
       " 'logisticregression__n_jobs': -1,\n",
       " 'logisticregression__penalty': 'l2',\n",
       " 'logisticregression__random_state': 42,\n",
       " 'logisticregression__solver': 'lbfgs',\n",
       " 'logisticregression__tol': 0.0001,\n",
       " 'logisticregression__verbose': 0,\n",
       " 'logisticregression__warm_start': False}"
      ]
     },
     "execution_count": 25,
     "metadata": {},
     "output_type": "execute_result"
    }
   ],
   "source": [
    "model_lr.get_params()"
   ]
  },
  {
   "cell_type": "code",
   "execution_count": 26,
   "id": "f654f30a",
   "metadata": {},
   "outputs": [
    {
     "name": "stdout",
     "output_type": "stream",
     "text": [
      "Fitting 3 folds for each of 10 candidates, totalling 30 fits\n"
     ]
    },
    {
     "name": "stderr",
     "output_type": "stream",
     "text": [
      "C:\\Users\\ebner\\anaconda3\\lib\\site-packages\\category_encoders\\utils.py:21: FutureWarning: is_categorical is deprecated and will be removed in a future version.  Use is_categorical_dtype instead\n",
      "  elif pd.api.types.is_categorical(cols):\n",
      "C:\\Users\\ebner\\anaconda3\\lib\\site-packages\\sklearn\\linear_model\\_logistic.py:1355: UserWarning: 'n_jobs' > 1 does not have any effect when 'solver' is set to 'liblinear'. Got 'n_jobs' = 4.\n",
      "  warnings.warn(\"'n_jobs' > 1 does not have any effect when\"\n"
     ]
    },
    {
     "data": {
      "text/plain": [
       "RandomizedSearchCV(cv=3,\n",
       "                   estimator=Pipeline(steps=[('ordinalencoder',\n",
       "                                              OrdinalEncoder(cols=['victory_status',\n",
       "                                                                   'increment_code',\n",
       "                                                                   'opening_eco'],\n",
       "                                                             mapping=[{'col': 'victory_status',\n",
       "                                                                       'data_type': dtype('O'),\n",
       "                                                                       'mapping': outoftime    1\n",
       "mate         2\n",
       "resign       3\n",
       "draw         4\n",
       "NaN         -2\n",
       "dtype: int64},\n",
       "                                                                      {'col': 'increment_code',\n",
       "                                                                       'data_type': dtype('O'),\n",
       "                                                                       'mapping': 10+0       1\n",
       "15+0       2\n",
       "20+20      3\n",
       "8+0        4\n",
       "13+15      5\n",
       "        ... \n",
       "0+13     291\n",
       "11+1     292\n",
       "1...\n",
       "                                                                       'mapping': C45      1\n",
       "D06      2\n",
       "C21      3\n",
       "A43      4\n",
       "C50      5\n",
       "      ... \n",
       "B73    321\n",
       "E88    322\n",
       "C12    323\n",
       "A82    324\n",
       "NaN     -2\n",
       "Length: 325, dtype: int64}])),\n",
       "                                             ('logisticregression',\n",
       "                                              LogisticRegression(n_jobs=-1,\n",
       "                                                                 random_state=42))]),\n",
       "                   n_jobs=-1,\n",
       "                   param_distributions={'logisticregression__C': array([1., 2., 3., 4., 5.]),\n",
       "                                        'logisticregression__max_iter': range(50, 251, 50),\n",
       "                                        'logisticregression__solver': ['liblinear',\n",
       "                                                                       'sag',\n",
       "                                                                       'saga',\n",
       "                                                                       'lbfgs']},\n",
       "                   verbose=1)"
      ]
     },
     "execution_count": 26,
     "metadata": {},
     "output_type": "execute_result"
    }
   ],
   "source": [
    "params = {'logisticregression__max_iter' : range(50,251,50),\n",
    "          'logisticregression__solver' : ['liblinear','sag','saga','lbfgs'],\n",
    "          'logisticregression__C' : np.arange(1.0,5.1,1.0),\n",
    "    }\n",
    "\n",
    "model_lrcv = RandomizedSearchCV(\n",
    "    model_lr, \n",
    "    param_distributions=params,\n",
    "    n_iter=10,\n",
    "    cv=3,\n",
    "    n_jobs=-1,\n",
    "    verbose=1\n",
    ")\n",
    "\n",
    "model_lrcv.fit(X_train, y_train)"
   ]
  },
  {
   "cell_type": "code",
   "execution_count": 27,
   "id": "ab8bd0ec",
   "metadata": {},
   "outputs": [
    {
     "name": "stdout",
     "output_type": "stream",
     "text": [
      "Best score for `model`: 0.6538739296399463\n",
      "Best params for `model`: {'logisticregression__solver': 'liblinear', 'logisticregression__max_iter': 100, 'logisticregression__C': 2.0}\n"
     ]
    }
   ],
   "source": [
    "best_score = model_lrcv.best_score_\n",
    "best_params = model_lrcv.best_params_\n",
    "\n",
    "print('Best score for `model`:', best_score)\n",
    "print('Best params for `model`:', best_params)"
   ]
  },
  {
   "cell_type": "code",
   "execution_count": 34,
   "id": "8e2d6db1",
   "metadata": {},
   "outputs": [
    {
     "name": "stderr",
     "output_type": "stream",
     "text": [
      "C:\\Users\\ebner\\anaconda3\\lib\\site-packages\\sklearn\\linear_model\\_logistic.py:1355: UserWarning: 'n_jobs' > 1 does not have any effect when 'solver' is set to 'liblinear'. Got 'n_jobs' = 4.\n",
      "  warnings.warn(\"'n_jobs' > 1 does not have any effect when\"\n"
     ]
    },
    {
     "data": {
      "text/plain": [
       "Pipeline(steps=[('ordinalencoder',\n",
       "                 OrdinalEncoder(cols=['victory_status', 'increment_code',\n",
       "                                      'opening_eco'],\n",
       "                                mapping=[{'col': 'victory_status',\n",
       "                                          'data_type': dtype('O'),\n",
       "                                          'mapping': outoftime    1\n",
       "mate         2\n",
       "resign       3\n",
       "draw         4\n",
       "NaN         -2\n",
       "dtype: int64},\n",
       "                                         {'col': 'increment_code',\n",
       "                                          'data_type': dtype('O'),\n",
       "                                          'mapping': 10+0       1\n",
       "15+0       2\n",
       "20+20      3\n",
       "8+0        4\n",
       "13+15      5\n",
       "        ... \n",
       "0+13     291\n",
       "11+1     292\n",
       "16+20    293\n",
       "19+17    294\n",
       "NaN       -2\n",
       "Length: 295, dtype: int64},\n",
       "                                         {'col': 'opening_eco',\n",
       "                                          'data_type': dtype('O'),\n",
       "                                          'mapping': C45      1\n",
       "D06      2\n",
       "C21      3\n",
       "A43      4\n",
       "C50      5\n",
       "      ... \n",
       "B73    321\n",
       "E88    322\n",
       "C12    323\n",
       "A82    324\n",
       "NaN     -2\n",
       "Length: 325, dtype: int64}])),\n",
       "                ('logisticregression',\n",
       "                 LogisticRegression(C=5.0, max_iter=200, n_jobs=-1,\n",
       "                                    random_state=42, solver='liblinear'))])"
      ]
     },
     "execution_count": 34,
     "metadata": {},
     "output_type": "execute_result"
    }
   ],
   "source": [
    "model_lr1 = make_pipeline(\n",
    "    OrdinalEncoder(),\n",
    "    LogisticRegression(random_state=42,n_jobs=-1,max_iter=200,solver='liblinear',C=5.0)\n",
    ")\n",
    "\n",
    "model_lr1.fit(X_train, y_train)"
   ]
  },
  {
   "cell_type": "code",
   "execution_count": 29,
   "id": "61af42d9",
   "metadata": {},
   "outputs": [
    {
     "name": "stdout",
     "output_type": "stream",
     "text": [
      "Regression Training Accuracy: 0.6154957185597855\n",
      "Regression Validation Accuracy: 0.6326214794181368\n"
     ]
    }
   ],
   "source": [
    "print('Regression Training Accuracy:', model_lr.score(X_train, y_train))\n",
    "print('Regression Validation Accuracy:', model_lr.score(X_val, y_val))"
   ]
  },
  {
   "cell_type": "code",
   "execution_count": 35,
   "id": "eb1a31df",
   "metadata": {},
   "outputs": [
    {
     "name": "stdout",
     "output_type": "stream",
     "text": [
      "Regression CV Training Accuracy: 0.6559372743216755\n",
      "Regression CV Validation Accuracy: 0.6740947075208914\n"
     ]
    }
   ],
   "source": [
    "print('Regression CV Training Accuracy:', model_lr1.score(X_train, y_train))\n",
    "print('Regression CV Validation Accuracy:', model_lr1.score(X_val, y_val))"
   ]
  },
  {
   "cell_type": "code",
   "execution_count": 31,
   "id": "9f816e3a",
   "metadata": {},
   "outputs": [
    {
     "name": "stdout",
     "output_type": "stream",
     "text": [
      "XGBoost Cross-Validated Test Accuracy =  0.8907458991024451\n",
      "LinearRegression Cross-Validated Test Accuracy =  0.6682141751779634\n"
     ]
    }
   ],
   "source": [
    "print('XGBoost Cross-Validated Test Accuracy = ',model_xgb1.score(X_test,y_test))\n",
    "print('LinearRegression Cross-Validated Test Accuracy = ',model_lr1.score(X_test,y_test))"
   ]
  },
  {
   "cell_type": "code",
   "execution_count": null,
   "id": "16d74fe3",
   "metadata": {},
   "outputs": [],
   "source": []
  }
 ],
 "metadata": {
  "kernelspec": {
   "display_name": "Python 3",
   "language": "python",
   "name": "python3"
  },
  "language_info": {
   "codemirror_mode": {
    "name": "ipython",
    "version": 3
   },
   "file_extension": ".py",
   "mimetype": "text/x-python",
   "name": "python",
   "nbconvert_exporter": "python",
   "pygments_lexer": "ipython3",
   "version": "3.8.8"
  }
 },
 "nbformat": 4,
 "nbformat_minor": 5
}
